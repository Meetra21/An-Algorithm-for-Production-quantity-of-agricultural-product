{
  "nbformat": 4,
  "nbformat_minor": 0,
  "metadata": {
    "colab": {
      "provenance": [],
      "authorship_tag": "ABX9TyPyLlQj612cdjQHDUfVWaBX",
      "include_colab_link": true
    },
    "kernelspec": {
      "name": "python3",
      "display_name": "Python 3"
    },
    "language_info": {
      "name": "python"
    },
    "accelerator": "GPU"
  },
  "cells": [
    {
      "cell_type": "markdown",
      "metadata": {
        "id": "view-in-github",
        "colab_type": "text"
      },
      "source": [
        "<a href=\"https://colab.research.google.com/github/Meetra21/An-Algorithm-for-Production-quantity-of-agricultural-product/blob/main/Production_quantity_for_G_syrup.ipynb\" target=\"_parent\"><img src=\"https://colab.research.google.com/assets/colab-badge.svg\" alt=\"Open In Colab\"/></a>"
      ]
    },
    {
      "cell_type": "markdown",
      "source": [
        "**Project Statement:**\n",
        "\n"
      ],
      "metadata": {
        "id": "sEwdnK0edqYD"
      }
    },
    {
      "cell_type": "markdown",
      "source": [
        "Goal:\n",
        "\n",
        "We have been given the monthly production quantity for a certain agricultural product (let’s call it Grople syrup, note - no relation to actual Maple Syrup) in 10 different provinces of a country between January 2015 to December 2020. This Grople syrup comes from a fruit. It takes a few months for the fruits to grow on the trees which bear them. It also takes a few days to extract the syrup from the fruits after they have been harvested.\n",
        "\n",
        "\n",
        "\n",
        "We would like to predict the production quantity for Grople syrup from Jan 2021 to Dec 2021.\n",
        "\n",
        "\n",
        "\n",
        "Data:\n",
        "\n",
        "**Production Quantity.csv** has 4 columns\n",
        "start_date, end_date: start day and end day of each month between January 2015 to Dec 2020.\n",
        "\n",
        "prod: production quantity of Grople syrup in tonnes at monthly frequency\n",
        "region_id: A unique identifier for the 10 provinces\n",
        "\n",
        "Daily Precipitation.csv: has 4 columns\n",
        "start_date, end_date: start day and end day at a daily frequency between January 1, 2014 to Mar 13, 2022.\n",
        "precip: Precipitation quantity (in mm) at daily frequency\n",
        "\n",
        "region_id: A unique identifier for the 10 provinces\n",
        "\n",
        "**Daily Soil Moisture.csv:** has 4 columns\n",
        "start_date, end_date: start day and end day at daily frequency between January 1, 2014 to Mar 6, 2022.\n",
        "\n",
        "smos: Soil Moisture at 5cm depth (measured by the ratio Vol/Vol) at daily frequency\n",
        "region_id: A unique identifier for the 10 provinces\n",
        "\n",
        "**Daily Temperature.csv:** has 4 columns\n",
        "start_date, end_date: start day and end day at daily frequency between January 1, 2014 to Mar 13, 2022.\n",
        "\n",
        "temp: Average daily temperature on the surface of the land (in celsius) at daily frequency\n",
        "\n",
        "region_id: A unique identifier for the 10 provinces\n",
        "\n",
        "**Eight Day NDVI.csv:** has 4 columns\n",
        "start_date, end_date: start day and end day at 8-day frequency between Dec 27, 2013 to Mar 13, 2022.\n",
        "\n",
        "ndvi: Normalized Difference Vegetation Index (NDVI is a ratio which ranges between [-1, 1] and captures the vegetation abundance of an area) at 8 day frequency between the given periods**\n",
        "\n",
        "region_id: A unique identifier for the 10 provinces\n",
        "\n",
        "**predicted_production_qty.csv:** has 4 columns\n",
        "\n",
        "start_date, end_date: start day and end day of each month between Jan 2021 to Dec 2021.\n",
        "\n",
        "prod: This column needs to be filled by the candidate with their predictions of Grople syrup.\n",
        "\n",
        "region_id: A unique identifier for the 10 provinces\n",
        ""
      ],
      "metadata": {
        "id": "yQAOuE7Lc4GM"
      }
    },
    {
      "cell_type": "code",
      "source": [
        "!pip install keras-tuner --upgrade"
      ],
      "metadata": {
        "colab": {
          "base_uri": "https://localhost:8080/"
        },
        "id": "vsaVVpT8dZaT",
        "outputId": "a5275c9f-49a4-4c25-bf5c-49dcc8dc4960"
      },
      "execution_count": null,
      "outputs": [
        {
          "output_type": "stream",
          "name": "stdout",
          "text": [
            "Collecting keras-tuner\n",
            "  Downloading keras_tuner-1.1.2-py3-none-any.whl (133 kB)\n",
            "\u001b[?25l\r\u001b[K     |██▌                             | 10 kB 22.0 MB/s eta 0:00:01\r\u001b[K     |█████                           | 20 kB 29.0 MB/s eta 0:00:01\r\u001b[K     |███████▍                        | 30 kB 14.5 MB/s eta 0:00:01\r\u001b[K     |█████████▉                      | 40 kB 6.2 MB/s eta 0:00:01\r\u001b[K     |████████████▎                   | 51 kB 5.7 MB/s eta 0:00:01\r\u001b[K     |██████████████▊                 | 61 kB 6.7 MB/s eta 0:00:01\r\u001b[K     |█████████████████▏              | 71 kB 7.1 MB/s eta 0:00:01\r\u001b[K     |███████████████████▋            | 81 kB 5.6 MB/s eta 0:00:01\r\u001b[K     |██████████████████████          | 92 kB 6.2 MB/s eta 0:00:01\r\u001b[K     |████████████████████████▌       | 102 kB 6.8 MB/s eta 0:00:01\r\u001b[K     |███████████████████████████     | 112 kB 6.8 MB/s eta 0:00:01\r\u001b[K     |█████████████████████████████▍  | 122 kB 6.8 MB/s eta 0:00:01\r\u001b[K     |███████████████████████████████▉| 133 kB 6.8 MB/s eta 0:00:01\r\u001b[K     |████████████████████████████████| 133 kB 6.8 MB/s \n",
            "\u001b[?25hRequirement already satisfied: numpy in /usr/local/lib/python3.7/dist-packages (from keras-tuner) (1.21.5)\n",
            "Requirement already satisfied: requests in /usr/local/lib/python3.7/dist-packages (from keras-tuner) (2.23.0)\n",
            "Requirement already satisfied: packaging in /usr/local/lib/python3.7/dist-packages (from keras-tuner) (21.3)\n",
            "Collecting kt-legacy\n",
            "  Downloading kt_legacy-1.0.4-py3-none-any.whl (9.6 kB)\n",
            "Requirement already satisfied: tensorboard in /usr/local/lib/python3.7/dist-packages (from keras-tuner) (2.8.0)\n",
            "Requirement already satisfied: ipython in /usr/local/lib/python3.7/dist-packages (from keras-tuner) (5.5.0)\n",
            "Requirement already satisfied: setuptools>=18.5 in /usr/local/lib/python3.7/dist-packages (from ipython->keras-tuner) (57.4.0)\n",
            "Requirement already satisfied: traitlets>=4.2 in /usr/local/lib/python3.7/dist-packages (from ipython->keras-tuner) (5.1.1)\n",
            "Requirement already satisfied: decorator in /usr/local/lib/python3.7/dist-packages (from ipython->keras-tuner) (4.4.2)\n",
            "Requirement already satisfied: pygments in /usr/local/lib/python3.7/dist-packages (from ipython->keras-tuner) (2.6.1)\n",
            "Requirement already satisfied: pexpect in /usr/local/lib/python3.7/dist-packages (from ipython->keras-tuner) (4.8.0)\n",
            "Requirement already satisfied: simplegeneric>0.8 in /usr/local/lib/python3.7/dist-packages (from ipython->keras-tuner) (0.8.1)\n",
            "Requirement already satisfied: prompt-toolkit<2.0.0,>=1.0.4 in /usr/local/lib/python3.7/dist-packages (from ipython->keras-tuner) (1.0.18)\n",
            "Requirement already satisfied: pickleshare in /usr/local/lib/python3.7/dist-packages (from ipython->keras-tuner) (0.7.5)\n",
            "Requirement already satisfied: six>=1.9.0 in /usr/local/lib/python3.7/dist-packages (from prompt-toolkit<2.0.0,>=1.0.4->ipython->keras-tuner) (1.15.0)\n",
            "Requirement already satisfied: wcwidth in /usr/local/lib/python3.7/dist-packages (from prompt-toolkit<2.0.0,>=1.0.4->ipython->keras-tuner) (0.2.5)\n",
            "Requirement already satisfied: pyparsing!=3.0.5,>=2.0.2 in /usr/local/lib/python3.7/dist-packages (from packaging->keras-tuner) (3.0.7)\n",
            "Requirement already satisfied: ptyprocess>=0.5 in /usr/local/lib/python3.7/dist-packages (from pexpect->ipython->keras-tuner) (0.7.0)\n",
            "Requirement already satisfied: certifi>=2017.4.17 in /usr/local/lib/python3.7/dist-packages (from requests->keras-tuner) (2021.10.8)\n",
            "Requirement already satisfied: urllib3!=1.25.0,!=1.25.1,<1.26,>=1.21.1 in /usr/local/lib/python3.7/dist-packages (from requests->keras-tuner) (1.24.3)\n",
            "Requirement already satisfied: idna<3,>=2.5 in /usr/local/lib/python3.7/dist-packages (from requests->keras-tuner) (2.10)\n",
            "Requirement already satisfied: chardet<4,>=3.0.2 in /usr/local/lib/python3.7/dist-packages (from requests->keras-tuner) (3.0.4)\n",
            "Requirement already satisfied: absl-py>=0.4 in /usr/local/lib/python3.7/dist-packages (from tensorboard->keras-tuner) (1.0.0)\n",
            "Requirement already satisfied: tensorboard-plugin-wit>=1.6.0 in /usr/local/lib/python3.7/dist-packages (from tensorboard->keras-tuner) (1.8.1)\n",
            "Requirement already satisfied: google-auth<3,>=1.6.3 in /usr/local/lib/python3.7/dist-packages (from tensorboard->keras-tuner) (1.35.0)\n",
            "Requirement already satisfied: werkzeug>=0.11.15 in /usr/local/lib/python3.7/dist-packages (from tensorboard->keras-tuner) (1.0.1)\n",
            "Requirement already satisfied: markdown>=2.6.8 in /usr/local/lib/python3.7/dist-packages (from tensorboard->keras-tuner) (3.3.6)\n",
            "Requirement already satisfied: grpcio>=1.24.3 in /usr/local/lib/python3.7/dist-packages (from tensorboard->keras-tuner) (1.44.0)\n",
            "Requirement already satisfied: tensorboard-data-server<0.7.0,>=0.6.0 in /usr/local/lib/python3.7/dist-packages (from tensorboard->keras-tuner) (0.6.1)\n",
            "Requirement already satisfied: wheel>=0.26 in /usr/local/lib/python3.7/dist-packages (from tensorboard->keras-tuner) (0.37.1)\n",
            "Requirement already satisfied: protobuf>=3.6.0 in /usr/local/lib/python3.7/dist-packages (from tensorboard->keras-tuner) (3.17.3)\n",
            "Requirement already satisfied: google-auth-oauthlib<0.5,>=0.4.1 in /usr/local/lib/python3.7/dist-packages (from tensorboard->keras-tuner) (0.4.6)\n",
            "Requirement already satisfied: rsa<5,>=3.1.4 in /usr/local/lib/python3.7/dist-packages (from google-auth<3,>=1.6.3->tensorboard->keras-tuner) (4.8)\n",
            "Requirement already satisfied: pyasn1-modules>=0.2.1 in /usr/local/lib/python3.7/dist-packages (from google-auth<3,>=1.6.3->tensorboard->keras-tuner) (0.2.8)\n",
            "Requirement already satisfied: cachetools<5.0,>=2.0.0 in /usr/local/lib/python3.7/dist-packages (from google-auth<3,>=1.6.3->tensorboard->keras-tuner) (4.2.4)\n",
            "Requirement already satisfied: requests-oauthlib>=0.7.0 in /usr/local/lib/python3.7/dist-packages (from google-auth-oauthlib<0.5,>=0.4.1->tensorboard->keras-tuner) (1.3.1)\n",
            "Requirement already satisfied: importlib-metadata>=4.4 in /usr/local/lib/python3.7/dist-packages (from markdown>=2.6.8->tensorboard->keras-tuner) (4.11.3)\n",
            "Requirement already satisfied: typing-extensions>=3.6.4 in /usr/local/lib/python3.7/dist-packages (from importlib-metadata>=4.4->markdown>=2.6.8->tensorboard->keras-tuner) (3.10.0.2)\n",
            "Requirement already satisfied: zipp>=0.5 in /usr/local/lib/python3.7/dist-packages (from importlib-metadata>=4.4->markdown>=2.6.8->tensorboard->keras-tuner) (3.7.0)\n",
            "Requirement already satisfied: pyasn1<0.5.0,>=0.4.6 in /usr/local/lib/python3.7/dist-packages (from pyasn1-modules>=0.2.1->google-auth<3,>=1.6.3->tensorboard->keras-tuner) (0.4.8)\n",
            "Requirement already satisfied: oauthlib>=3.0.0 in /usr/local/lib/python3.7/dist-packages (from requests-oauthlib>=0.7.0->google-auth-oauthlib<0.5,>=0.4.1->tensorboard->keras-tuner) (3.2.0)\n",
            "Installing collected packages: kt-legacy, keras-tuner\n",
            "Successfully installed keras-tuner-1.1.2 kt-legacy-1.0.4\n"
          ]
        }
      ]
    },
    {
      "cell_type": "code",
      "source": [
        "import pandas as pd\n",
        "import numpy as np\n",
        "import matplotlib as mpl\n",
        "import matplotlib.pyplot as plt\n",
        "import seaborn as sns\n",
        "from sklearn.model_selection import train_test_split\n",
        "from sklearn.preprocessing import MinMaxScaler\n",
        "\n",
        "%matplotlib inline\n",
        "\n",
        "import tensorflow as tf\n",
        "from tensorflow import keras\n",
        "from keras.models import Sequential\n",
        "from keras.layers import LSTM\n",
        "\n",
        "from keras.layers import Dense, Dropout, Activation\n",
        "from keras import regularizers\n",
        "#from keras.preprocessing.sequence import TimeseriesGenerator\n",
        "\n",
        "from kerastuner.tuners import RandomSearch\n",
        "from kerastuner import HyperParameters\n"
      ],
      "metadata": {
        "colab": {
          "base_uri": "https://localhost:8080/"
        },
        "id": "mM75MKezeeb8",
        "outputId": "39e34b20-f485-4046-8f4c-be2503b104ab"
      },
      "execution_count": null,
      "outputs": [
        {
          "output_type": "stream",
          "name": "stderr",
          "text": [
            "/usr/local/lib/python3.7/dist-packages/ipykernel_launcher.py:20: DeprecationWarning: `import kerastuner` is deprecated, please use `import keras_tuner`.\n"
          ]
        }
      ]
    },
    {
      "cell_type": "markdown",
      "source": [
        "**Data Prepration**"
      ],
      "metadata": {
        "id": "-YdSitFdehjl"
      }
    },
    {
      "cell_type": "code",
      "source": [
        "df_product=pd.read_csv(\"Production Quantity.csv\", parse_dates=[0,1])\n",
        "df_prec=pd.read_csv(\"Daily Precipitation.csv\", parse_dates=[0,1])\n",
        "df_soil=pd.read_csv(\"Daily Soil Mositure.csv\", parse_dates=[0,1])\n",
        "df_temp=pd.read_csv(\"Daily Temperature.csv\", parse_dates=[0,1])\n",
        "df_ndvi=pd.read_csv(\"Eight Day NDVI.csv\", parse_dates=[0,1])\n",
        "\n",
        "#test dataset\n",
        "df_qty=pd.read_csv(\"predicted_production_qty.csv\", parse_dates=[0,1])"
      ],
      "metadata": {
        "id": "uCIDXdeiejJ1"
      },
      "execution_count": null,
      "outputs": []
    },
    {
      "cell_type": "code",
      "source": [
        "print(df_product.info())\n",
        "print(df_prec.info())\n",
        "print(df_soil.info())\n",
        "print(df_temp.info())\n",
        "print(df_ndvi.info())\n",
        "print(df_qty.info())"
      ],
      "metadata": {
        "colab": {
          "base_uri": "https://localhost:8080/"
        },
        "id": "tkXc0HD9emyp",
        "outputId": "8d90ecd5-30e7-430b-f112-aef949008890"
      },
      "execution_count": null,
      "outputs": [
        {
          "output_type": "stream",
          "name": "stdout",
          "text": [
            "<class 'pandas.core.frame.DataFrame'>\n",
            "RangeIndex: 720 entries, 0 to 719\n",
            "Data columns (total 4 columns):\n",
            " #   Column      Non-Null Count  Dtype              \n",
            "---  ------      --------------  -----              \n",
            " 0   start_date  720 non-null    datetime64[ns, UTC]\n",
            " 1   end_date    720 non-null    datetime64[ns, UTC]\n",
            " 2   prod        720 non-null    int64              \n",
            " 3   region_id   720 non-null    int64              \n",
            "dtypes: datetime64[ns, UTC](2), int64(2)\n",
            "memory usage: 22.6 KB\n",
            "None\n",
            "<class 'pandas.core.frame.DataFrame'>\n",
            "RangeIndex: 29940 entries, 0 to 29939\n",
            "Data columns (total 4 columns):\n",
            " #   Column      Non-Null Count  Dtype              \n",
            "---  ------      --------------  -----              \n",
            " 0   start_date  29940 non-null  datetime64[ns, UTC]\n",
            " 1   end_date    29940 non-null  datetime64[ns, UTC]\n",
            " 2   precip      29940 non-null  float64            \n",
            " 3   region_id   29940 non-null  int64              \n",
            "dtypes: datetime64[ns, UTC](2), float64(1), int64(1)\n",
            "memory usage: 935.8 KB\n",
            "None\n",
            "<class 'pandas.core.frame.DataFrame'>\n",
            "RangeIndex: 29603 entries, 0 to 29602\n",
            "Data columns (total 4 columns):\n",
            " #   Column      Non-Null Count  Dtype              \n",
            "---  ------      --------------  -----              \n",
            " 0   start_date  29603 non-null  datetime64[ns, UTC]\n",
            " 1   end_date    29603 non-null  datetime64[ns, UTC]\n",
            " 2   smos        29603 non-null  float64            \n",
            " 3   region_id   29603 non-null  int64              \n",
            "dtypes: datetime64[ns, UTC](2), float64(1), int64(1)\n",
            "memory usage: 925.2 KB\n",
            "None\n",
            "<class 'pandas.core.frame.DataFrame'>\n",
            "RangeIndex: 12930 entries, 0 to 12929\n",
            "Data columns (total 4 columns):\n",
            " #   Column      Non-Null Count  Dtype              \n",
            "---  ------      --------------  -----              \n",
            " 0   start_date  12930 non-null  datetime64[ns, UTC]\n",
            " 1   end_date    12930 non-null  datetime64[ns, UTC]\n",
            " 2   temp        12930 non-null  float64            \n",
            " 3   region_id   12930 non-null  int64              \n",
            "dtypes: datetime64[ns, UTC](2), float64(1), int64(1)\n",
            "memory usage: 404.2 KB\n",
            "None\n",
            "<class 'pandas.core.frame.DataFrame'>\n",
            "RangeIndex: 3338 entries, 0 to 3337\n",
            "Data columns (total 4 columns):\n",
            " #   Column      Non-Null Count  Dtype              \n",
            "---  ------      --------------  -----              \n",
            " 0   start_date  3338 non-null   datetime64[ns, UTC]\n",
            " 1   end_date    3338 non-null   datetime64[ns, UTC]\n",
            " 2   ndvi        3338 non-null   float64            \n",
            " 3   region_id   3338 non-null   int64              \n",
            "dtypes: datetime64[ns, UTC](2), float64(1), int64(1)\n",
            "memory usage: 104.4 KB\n",
            "None\n",
            "<class 'pandas.core.frame.DataFrame'>\n",
            "RangeIndex: 120 entries, 0 to 119\n",
            "Data columns (total 4 columns):\n",
            " #   Column      Non-Null Count  Dtype              \n",
            "---  ------      --------------  -----              \n",
            " 0   start_date  120 non-null    datetime64[ns, UTC]\n",
            " 1   end_date    120 non-null    datetime64[ns, UTC]\n",
            " 2   prod        0 non-null      float64            \n",
            " 3   region_id   120 non-null    int64              \n",
            "dtypes: datetime64[ns, UTC](2), float64(1), int64(1)\n",
            "memory usage: 3.9 KB\n",
            "None\n"
          ]
        }
      ]
    },
    {
      "cell_type": "code",
      "source": [
        "#checking for duplicates in dataset;\n",
        "print(df_product.duplicated(subset=['start_date','region_id']).sum())\n",
        "print(df_prec.duplicated(subset=['start_date','region_id']).sum())\n",
        "print(df_soil.duplicated(subset=['start_date','region_id']).sum())\n",
        "print(df_temp.duplicated(subset=['start_date','region_id']).sum())\n",
        "print(df_ndvi.duplicated(subset=['start_date','region_id']).sum())\n"
      ],
      "metadata": {
        "colab": {
          "base_uri": "https://localhost:8080/"
        },
        "id": "8lEBzan2eqQ-",
        "outputId": "8a6974fd-2997-4b17-c63d-504b03f2c57c"
      },
      "execution_count": null,
      "outputs": [
        {
          "output_type": "stream",
          "name": "stdout",
          "text": [
            "0\n",
            "0\n",
            "0\n",
            "0\n",
            "0\n"
          ]
        }
      ]
    },
    {
      "cell_type": "code",
      "source": [
        "#for simplicity let's drop \"end_date\" feature;\n",
        "df_product= df_product.drop('end_date',axis=1).copy()\n",
        "df_prec= df_prec.drop('end_date',axis=1).copy()\n",
        "df_soil= df_soil.drop('end_date',axis=1).copy()\n",
        "df_temp= df_temp.drop('end_date',axis=1).copy()\n",
        "df_ndvi= df_ndvi.drop('end_date',axis=1).copy()"
      ],
      "metadata": {
        "id": "WS1KTm2yesrM"
      },
      "execution_count": null,
      "outputs": []
    },
    {
      "cell_type": "code",
      "source": [
        "#let's look at the datasets;\n",
        "print(df_product.head(1))\n",
        "print(df_prec.head(1))\n",
        "print(df_soil.head(1))\n",
        "print(df_temp.head(1))\n",
        "print(df_ndvi.head(1))\n",
        "\n",
        "print(df_product.tail(1))\n",
        "print(df_prec.tail(1))\n",
        "print(df_soil.tail(1))\n",
        "print(df_temp.tail(1))\n",
        "print(df_ndvi.tail(1))"
      ],
      "metadata": {
        "colab": {
          "base_uri": "https://localhost:8080/"
        },
        "id": "paz5LuvNeudl",
        "outputId": "3de49f25-1fb2-4a57-89b6-d30b781d73d4"
      },
      "execution_count": null,
      "outputs": [
        {
          "output_type": "stream",
          "name": "stdout",
          "text": [
            "                 start_date    prod  region_id\n",
            "0 2015-01-01 00:00:00+00:00  171725         93\n",
            "                 start_date    precip  region_id\n",
            "0 2014-01-01 00:00:00+00:00  1.392393         93\n",
            "                 start_date      smos  region_id\n",
            "0 2014-01-01 00:00:00+00:00  0.310787         93\n",
            "                 start_date       temp  region_id\n",
            "0 2014-01-02 00:00:00+00:00  24.707605         93\n",
            "                 start_date      ndvi  region_id\n",
            "0 2013-12-27 00:00:00+00:00  0.679106         93\n",
            "                   start_date   prod  region_id\n",
            "719 2020-12-01 00:00:00+00:00  35728        105\n",
            "                     start_date    precip  region_id\n",
            "29939 2022-03-13 00:00:00+00:00  2.719724        105\n",
            "                     start_date      smos  region_id\n",
            "29602 2022-03-06 00:00:00+00:00  0.442624        105\n",
            "                     start_date       temp  region_id\n",
            "12929 2022-03-13 00:00:00+00:00  26.088818        105\n",
            "                    start_date      ndvi  region_id\n",
            "3337 2022-03-06 00:00:00+00:00  0.795875        105\n"
          ]
        }
      ]
    },
    {
      "cell_type": "code",
      "source": [
        "# let's create our training data by merging datasets;\n",
        "\n",
        "df1=pd.merge(df_product,df_prec, on=['start_date','region_id'], how='left')\n",
        "\n",
        "df2=pd.merge(df1,df_soil, on=['start_date','region_id'], how='left')\n",
        "\n",
        "df3=pd.merge(df2,df_temp, on=['start_date','region_id'], how='left')\n",
        "\n",
        "df_merged1=pd.merge(df3,df_ndvi, on=['start_date','region_id'], how='left')\n",
        "print(df_merged1.info())\n",
        "print(df_merged1.describe())"
      ],
      "metadata": {
        "colab": {
          "base_uri": "https://localhost:8080/"
        },
        "id": "hSdIK4QhexJE",
        "outputId": "e683709b-b52a-4321-f07d-317b478a793d"
      },
      "execution_count": null,
      "outputs": [
        {
          "output_type": "stream",
          "name": "stdout",
          "text": [
            "<class 'pandas.core.frame.DataFrame'>\n",
            "Int64Index: 720 entries, 0 to 719\n",
            "Data columns (total 7 columns):\n",
            " #   Column      Non-Null Count  Dtype              \n",
            "---  ------      --------------  -----              \n",
            " 0   start_date  720 non-null    datetime64[ns, UTC]\n",
            " 1   prod        720 non-null    int64              \n",
            " 2   region_id   720 non-null    int64              \n",
            " 3   precip      720 non-null    float64            \n",
            " 4   smos        718 non-null    float64            \n",
            " 5   temp        321 non-null    float64            \n",
            " 6   ndvi        140 non-null    float64            \n",
            "dtypes: datetime64[ns, UTC](1), float64(4), int64(2)\n",
            "memory usage: 45.0 KB\n",
            "None\n",
            "                prod  region_id      precip        smos        temp  \\\n",
            "count     720.000000  720.00000  720.000000  718.000000  321.000000   \n",
            "mean   159014.201389   99.00000    8.466546    0.269981   26.847293   \n",
            "std    142882.722751    4.10163   11.675442    0.096114    2.539416   \n",
            "min     10215.000000   93.00000    0.001005    0.050129   19.884587   \n",
            "25%     35445.500000   95.00000    1.266111    0.201203   25.003639   \n",
            "50%     91945.500000   98.50000    4.681245    0.268801   27.097665   \n",
            "75%    269946.000000  103.00000   11.811085    0.334342   28.594961   \n",
            "max    593579.000000  105.00000  139.365027    0.563623   32.807481   \n",
            "\n",
            "             ndvi  \n",
            "count  140.000000  \n",
            "mean     0.800655  \n",
            "std      0.030832  \n",
            "min      0.702924  \n",
            "25%      0.783032  \n",
            "50%      0.808732  \n",
            "75%      0.824065  \n",
            "max      0.850537  \n"
          ]
        }
      ]
    },
    {
      "cell_type": "markdown",
      "source": [
        "more than 80% of data is missing in \"ndvi\" column , so it's better to remove this column.\n",
        "\n",
        "about 60% of data is missing in the \"temp\" column , let's fill this column using the mean which is 27.\n",
        "\n",
        "there are few missing data in \"smos\" column , let's fill this column using \"ffill\""
      ],
      "metadata": {
        "id": "6xgtJVFGez0Y"
      }
    },
    {
      "cell_type": "code",
      "source": [
        "df_merged1.drop('ndvi',axis=1,inplace=True)\n",
        "\n",
        "df_merged1['temp'].fillna(27, inplace=True)\n",
        "df_merged1['smos'].fillna(0.27, inplace=True)\n",
        "\n",
        "df_merged1.info()"
      ],
      "metadata": {
        "colab": {
          "base_uri": "https://localhost:8080/"
        },
        "id": "n4rGX5lbe0h3",
        "outputId": "1994fa16-4b7d-4466-a138-9285b206948c"
      },
      "execution_count": null,
      "outputs": [
        {
          "output_type": "stream",
          "name": "stdout",
          "text": [
            "<class 'pandas.core.frame.DataFrame'>\n",
            "Int64Index: 720 entries, 0 to 719\n",
            "Data columns (total 6 columns):\n",
            " #   Column      Non-Null Count  Dtype              \n",
            "---  ------      --------------  -----              \n",
            " 0   start_date  720 non-null    datetime64[ns, UTC]\n",
            " 1   prod        720 non-null    int64              \n",
            " 2   region_id   720 non-null    int64              \n",
            " 3   precip      720 non-null    float64            \n",
            " 4   smos        720 non-null    float64            \n",
            " 5   temp        720 non-null    float64            \n",
            "dtypes: datetime64[ns, UTC](1), float64(3), int64(2)\n",
            "memory usage: 39.4 KB\n"
          ]
        }
      ]
    },
    {
      "cell_type": "code",
      "source": [
        "df_merged=df_merged1.groupby(by=['start_date','region_id']).mean()\n",
        "df_merged[:13]"
      ],
      "metadata": {
        "colab": {
          "base_uri": "https://localhost:8080/",
          "height": 488
        },
        "id": "O27XduTFe4MC",
        "outputId": "f26e7aa5-d919-4444-86d2-4e4ea2de191b"
      },
      "execution_count": null,
      "outputs": [
        {
          "output_type": "execute_result",
          "data": {
            "text/plain": [
              "                                         prod     precip      smos       temp\n",
              "start_date                region_id                                          \n",
              "2015-01-01 00:00:00+00:00 93         171725.0   2.278169  0.397555  27.000000\n",
              "                          94          15066.0   0.029032  0.361954  23.491922\n",
              "                          95          11181.0   0.149041  0.398271  19.884587\n",
              "                          97          37505.0   0.079414  0.343651  27.000000\n",
              "                          98         141442.0   0.063881  0.393050  27.000000\n",
              "                          99         116186.0   0.239019  0.386206  21.209544\n",
              "                          102        401299.0  19.875679  0.189944  24.372580\n",
              "                          103        208233.0  12.107712  0.291713  27.000000\n",
              "                          104         27384.0   0.441281  0.418575  27.000000\n",
              "                          105         19382.0   0.460438  0.360012  27.000000\n",
              "2015-02-01 00:00:00+00:00 93         188325.0   0.122923  0.392219  27.182920\n",
              "                          94          20527.0   0.010335  0.324014  30.239199\n",
              "                          95          11847.0   0.068482  0.368160  26.127185"
            ],
            "text/html": [
              "\n",
              "  <div id=\"df-81cf99a5-5433-487e-bc5c-e0f1dc041595\">\n",
              "    <div class=\"colab-df-container\">\n",
              "      <div>\n",
              "<style scoped>\n",
              "    .dataframe tbody tr th:only-of-type {\n",
              "        vertical-align: middle;\n",
              "    }\n",
              "\n",
              "    .dataframe tbody tr th {\n",
              "        vertical-align: top;\n",
              "    }\n",
              "\n",
              "    .dataframe thead th {\n",
              "        text-align: right;\n",
              "    }\n",
              "</style>\n",
              "<table border=\"1\" class=\"dataframe\">\n",
              "  <thead>\n",
              "    <tr style=\"text-align: right;\">\n",
              "      <th></th>\n",
              "      <th></th>\n",
              "      <th>prod</th>\n",
              "      <th>precip</th>\n",
              "      <th>smos</th>\n",
              "      <th>temp</th>\n",
              "    </tr>\n",
              "    <tr>\n",
              "      <th>start_date</th>\n",
              "      <th>region_id</th>\n",
              "      <th></th>\n",
              "      <th></th>\n",
              "      <th></th>\n",
              "      <th></th>\n",
              "    </tr>\n",
              "  </thead>\n",
              "  <tbody>\n",
              "    <tr>\n",
              "      <th rowspan=\"10\" valign=\"top\">2015-01-01 00:00:00+00:00</th>\n",
              "      <th>93</th>\n",
              "      <td>171725.0</td>\n",
              "      <td>2.278169</td>\n",
              "      <td>0.397555</td>\n",
              "      <td>27.000000</td>\n",
              "    </tr>\n",
              "    <tr>\n",
              "      <th>94</th>\n",
              "      <td>15066.0</td>\n",
              "      <td>0.029032</td>\n",
              "      <td>0.361954</td>\n",
              "      <td>23.491922</td>\n",
              "    </tr>\n",
              "    <tr>\n",
              "      <th>95</th>\n",
              "      <td>11181.0</td>\n",
              "      <td>0.149041</td>\n",
              "      <td>0.398271</td>\n",
              "      <td>19.884587</td>\n",
              "    </tr>\n",
              "    <tr>\n",
              "      <th>97</th>\n",
              "      <td>37505.0</td>\n",
              "      <td>0.079414</td>\n",
              "      <td>0.343651</td>\n",
              "      <td>27.000000</td>\n",
              "    </tr>\n",
              "    <tr>\n",
              "      <th>98</th>\n",
              "      <td>141442.0</td>\n",
              "      <td>0.063881</td>\n",
              "      <td>0.393050</td>\n",
              "      <td>27.000000</td>\n",
              "    </tr>\n",
              "    <tr>\n",
              "      <th>99</th>\n",
              "      <td>116186.0</td>\n",
              "      <td>0.239019</td>\n",
              "      <td>0.386206</td>\n",
              "      <td>21.209544</td>\n",
              "    </tr>\n",
              "    <tr>\n",
              "      <th>102</th>\n",
              "      <td>401299.0</td>\n",
              "      <td>19.875679</td>\n",
              "      <td>0.189944</td>\n",
              "      <td>24.372580</td>\n",
              "    </tr>\n",
              "    <tr>\n",
              "      <th>103</th>\n",
              "      <td>208233.0</td>\n",
              "      <td>12.107712</td>\n",
              "      <td>0.291713</td>\n",
              "      <td>27.000000</td>\n",
              "    </tr>\n",
              "    <tr>\n",
              "      <th>104</th>\n",
              "      <td>27384.0</td>\n",
              "      <td>0.441281</td>\n",
              "      <td>0.418575</td>\n",
              "      <td>27.000000</td>\n",
              "    </tr>\n",
              "    <tr>\n",
              "      <th>105</th>\n",
              "      <td>19382.0</td>\n",
              "      <td>0.460438</td>\n",
              "      <td>0.360012</td>\n",
              "      <td>27.000000</td>\n",
              "    </tr>\n",
              "    <tr>\n",
              "      <th rowspan=\"3\" valign=\"top\">2015-02-01 00:00:00+00:00</th>\n",
              "      <th>93</th>\n",
              "      <td>188325.0</td>\n",
              "      <td>0.122923</td>\n",
              "      <td>0.392219</td>\n",
              "      <td>27.182920</td>\n",
              "    </tr>\n",
              "    <tr>\n",
              "      <th>94</th>\n",
              "      <td>20527.0</td>\n",
              "      <td>0.010335</td>\n",
              "      <td>0.324014</td>\n",
              "      <td>30.239199</td>\n",
              "    </tr>\n",
              "    <tr>\n",
              "      <th>95</th>\n",
              "      <td>11847.0</td>\n",
              "      <td>0.068482</td>\n",
              "      <td>0.368160</td>\n",
              "      <td>26.127185</td>\n",
              "    </tr>\n",
              "  </tbody>\n",
              "</table>\n",
              "</div>\n",
              "      <button class=\"colab-df-convert\" onclick=\"convertToInteractive('df-81cf99a5-5433-487e-bc5c-e0f1dc041595')\"\n",
              "              title=\"Convert this dataframe to an interactive table.\"\n",
              "              style=\"display:none;\">\n",
              "        \n",
              "  <svg xmlns=\"http://www.w3.org/2000/svg\" height=\"24px\"viewBox=\"0 0 24 24\"\n",
              "       width=\"24px\">\n",
              "    <path d=\"M0 0h24v24H0V0z\" fill=\"none\"/>\n",
              "    <path d=\"M18.56 5.44l.94 2.06.94-2.06 2.06-.94-2.06-.94-.94-2.06-.94 2.06-2.06.94zm-11 1L8.5 8.5l.94-2.06 2.06-.94-2.06-.94L8.5 2.5l-.94 2.06-2.06.94zm10 10l.94 2.06.94-2.06 2.06-.94-2.06-.94-.94-2.06-.94 2.06-2.06.94z\"/><path d=\"M17.41 7.96l-1.37-1.37c-.4-.4-.92-.59-1.43-.59-.52 0-1.04.2-1.43.59L10.3 9.45l-7.72 7.72c-.78.78-.78 2.05 0 2.83L4 21.41c.39.39.9.59 1.41.59.51 0 1.02-.2 1.41-.59l7.78-7.78 2.81-2.81c.8-.78.8-2.07 0-2.86zM5.41 20L4 18.59l7.72-7.72 1.47 1.35L5.41 20z\"/>\n",
              "  </svg>\n",
              "      </button>\n",
              "      \n",
              "  <style>\n",
              "    .colab-df-container {\n",
              "      display:flex;\n",
              "      flex-wrap:wrap;\n",
              "      gap: 12px;\n",
              "    }\n",
              "\n",
              "    .colab-df-convert {\n",
              "      background-color: #E8F0FE;\n",
              "      border: none;\n",
              "      border-radius: 50%;\n",
              "      cursor: pointer;\n",
              "      display: none;\n",
              "      fill: #1967D2;\n",
              "      height: 32px;\n",
              "      padding: 0 0 0 0;\n",
              "      width: 32px;\n",
              "    }\n",
              "\n",
              "    .colab-df-convert:hover {\n",
              "      background-color: #E2EBFA;\n",
              "      box-shadow: 0px 1px 2px rgba(60, 64, 67, 0.3), 0px 1px 3px 1px rgba(60, 64, 67, 0.15);\n",
              "      fill: #174EA6;\n",
              "    }\n",
              "\n",
              "    [theme=dark] .colab-df-convert {\n",
              "      background-color: #3B4455;\n",
              "      fill: #D2E3FC;\n",
              "    }\n",
              "\n",
              "    [theme=dark] .colab-df-convert:hover {\n",
              "      background-color: #434B5C;\n",
              "      box-shadow: 0px 1px 3px 1px rgba(0, 0, 0, 0.15);\n",
              "      filter: drop-shadow(0px 1px 2px rgba(0, 0, 0, 0.3));\n",
              "      fill: #FFFFFF;\n",
              "    }\n",
              "  </style>\n",
              "\n",
              "      <script>\n",
              "        const buttonEl =\n",
              "          document.querySelector('#df-81cf99a5-5433-487e-bc5c-e0f1dc041595 button.colab-df-convert');\n",
              "        buttonEl.style.display =\n",
              "          google.colab.kernel.accessAllowed ? 'block' : 'none';\n",
              "\n",
              "        async function convertToInteractive(key) {\n",
              "          const element = document.querySelector('#df-81cf99a5-5433-487e-bc5c-e0f1dc041595');\n",
              "          const dataTable =\n",
              "            await google.colab.kernel.invokeFunction('convertToInteractive',\n",
              "                                                     [key], {});\n",
              "          if (!dataTable) return;\n",
              "\n",
              "          const docLinkHtml = 'Like what you see? Visit the ' +\n",
              "            '<a target=\"_blank\" href=https://colab.research.google.com/notebooks/data_table.ipynb>data table notebook</a>'\n",
              "            + ' to learn more about interactive tables.';\n",
              "          element.innerHTML = '';\n",
              "          dataTable['output_type'] = 'display_data';\n",
              "          await google.colab.output.renderOutput(dataTable, element);\n",
              "          const docLink = document.createElement('div');\n",
              "          docLink.innerHTML = docLinkHtml;\n",
              "          element.appendChild(docLink);\n",
              "        }\n",
              "      </script>\n",
              "    </div>\n",
              "  </div>\n",
              "  "
            ]
          },
          "metadata": {},
          "execution_count": 10
        }
      ]
    },
    {
      "cell_type": "code",
      "source": [
        "df_merged.plot(subplots=True, figsize=(11,6), fontsize=9, rot=20);\n"
      ],
      "metadata": {
        "colab": {
          "base_uri": "https://localhost:8080/",
          "height": 440
        },
        "id": "C5Y9TJyoe6dR",
        "outputId": "0391a092-c4cd-48b5-e454-30b4b0a54d3e"
      },
      "execution_count": null,
      "outputs": [
        {
          "output_type": "display_data",
          "data": {
            "text/plain": [
              "<Figure size 792x432 with 4 Axes>"
            ],
            "image/png": "[encoded data removed]"
          },
          "metadata": {
            "needs_background": "light"
          }
        }
      ]
    },
    {
      "cell_type": "code",
      "source": [
        "print(df_product.region_id.nunique())\n",
        "print(df_prec.region_id.nunique())\n",
        "print(df_soil.region_id.nunique())\n",
        "print(df_temp.region_id.nunique())\n",
        "print(df_ndvi.region_id.nunique())"
      ],
      "metadata": {
        "colab": {
          "base_uri": "https://localhost:8080/"
        },
        "id": "ekus-l8ne9IB",
        "outputId": "11e1d14f-9262-4d1f-f52d-f56821559934"
      },
      "execution_count": null,
      "outputs": [
        {
          "output_type": "stream",
          "name": "stdout",
          "text": [
            "10\n",
            "10\n",
            "10\n",
            "10\n",
            "10\n"
          ]
        }
      ]
    },
    {
      "cell_type": "code",
      "source": [
        "scaler=MinMaxScaler(feature_range=(0,1))\n",
        "df_train=scaler.fit_transform(df_merged[['prod',\t'precip',\t'smos',\t'temp']])\n",
        "df_train.shape"
      ],
      "metadata": {
        "colab": {
          "base_uri": "https://localhost:8080/"
        },
        "id": "c03j8SBEe_mf",
        "outputId": "2872f638-0ee8-4375-e8fa-2264fb848242"
      },
      "execution_count": null,
      "outputs": [
        {
          "output_type": "execute_result",
          "data": {
            "text/plain": [
              "(720, 4)"
            ]
          },
          "metadata": {},
          "execution_count": 13
        }
      ]
    },
    {
      "cell_type": "code",
      "source": [
        "trainX=[]\n",
        "trainY=[]\n",
        "\n",
        "n_future=1 #number of timestamps we want to predict in future\n",
        "n_past=20 #number of past timestamps we want to use to predict the future\n",
        "\n",
        "for i in range(n_past, len(df_train)- n_future +1):\n",
        "  trainX.append(df_train[i- n_past:i , 0:df_train.shape[1]])\n",
        "  trainY.append(df_train[i+ n_future -1:i+ n_future, 0])\n",
        "\n",
        "trainX, trainY=np.array(trainX), np.array(trainY)"
      ],
      "metadata": {
        "id": "qp4pWUfafBnv"
      },
      "execution_count": null,
      "outputs": []
    },
    {
      "cell_type": "code",
      "source": [
        "trainX.shape, trainY.shape"
      ],
      "metadata": {
        "colab": {
          "base_uri": "https://localhost:8080/"
        },
        "id": "U5ckH4INfEC9",
        "outputId": "badaf4ae-402d-4ce6-cdf5-8ab3c5e2415a"
      },
      "execution_count": null,
      "outputs": [
        {
          "output_type": "execute_result",
          "data": {
            "text/plain": [
              "((700, 20, 4), (700, 1))"
            ]
          },
          "metadata": {},
          "execution_count": 15
        }
      ]
    },
    {
      "cell_type": "markdown",
      "source": [
        "**LSTM Model**\n",
        "\n",
        "Training the Data & Model Evaluation & Fine-Tune Model"
      ],
      "metadata": {
        "id": "H-si1sRvfGfv"
      }
    },
    {
      "cell_type": "code",
      "source": [
        "def build_model(hp):\n",
        "  model = Sequential()\n",
        "  model.add(LSTM(units=hp.Int('units', min_value=32,max_value=256, step=32),\n",
        "                 activation='relu', kernel_initializer='he_normal', input_shape=(n_past, 4), return_sequences=True))\n",
        "  model.add(LSTM(units=hp.Int('units', min_value=16, max_value=128, step=16),\n",
        "                 activation='relu', kernel_initializer='he_normal',return_sequences=True))\n",
        "  model.add(Dropout(hp.Choice('rate', values=[0.2,0.3,0.4])))\n",
        "  model.add(LSTM(units=hp.Int('units', min_value=16, max_value=64, step=16),\n",
        "                 activation='relu', kernel_initializer='he_normal', return_sequences=False))\n",
        "  model.add(Dropout(hp.Choice('rate', values=[0.2,0.3,0.4])))\n",
        "  model.add(Dense(1))\n",
        "  model.compile(optimizer=keras.optimizers.Adam(hp.Choice('learning_rate', values=[0.0001,0.001,0.01,0.1]),clipnorm=1), loss='mse')\n",
        "  return model"
      ],
      "metadata": {
        "id": "o6IARu10fK1_"
      },
      "execution_count": null,
      "outputs": []
    },
    {
      "cell_type": "code",
      "source": [
        "early_stopping=keras.callbacks.EarlyStopping(monitor='val_loss', patience=5, mode='min')\n",
        ""
      ],
      "metadata": {
        "id": "Vzy-XhJMfOrF"
      },
      "execution_count": null,
      "outputs": []
    },
    {
      "cell_type": "code",
      "source": [
        "checkpoint_filepath = '/tmp/checkpoint'\n",
        "model_checkpoint_callback = tf.keras.callbacks.ModelCheckpoint(\n",
        "    filepath=checkpoint_filepath,\n",
        "    save_weights_only=True,\n",
        "    monitor='val_loss',\n",
        "    mode='min',\n",
        "    save_best_only=True)"
      ],
      "metadata": {
        "id": "7SD0HfhlfSxw"
      },
      "execution_count": null,
      "outputs": []
    },
    {
      "cell_type": "code",
      "source": [
        "tuner = RandomSearch(\n",
        "    build_model,\n",
        "    objective='val_loss',\n",
        "    max_trials=6,\n",
        "   directory='**checkpoint_filepath**',\n",
        ")"
      ],
      "metadata": {
        "id": "SCfkfXotfVl8"
      },
      "execution_count": null,
      "outputs": []
    },
    {
      "cell_type": "code",
      "source": [
        "tuner.search(trainX, trainY, epochs=50,shuffle=False, batch_size=32, validation_split=0.25, callbacks=[model_checkpoint_callback, early_stopping])"
      ],
      "metadata": {
        "colab": {
          "base_uri": "https://localhost:8080/"
        },
        "id": "D_q3rXdtfYh_",
        "outputId": "530bc263-ee18-4906-8cca-3b97240cb791"
      },
      "execution_count": null,
      "outputs": [
        {
          "output_type": "stream",
          "name": "stdout",
          "text": [
            "Trial 6 Complete [00h 00m 57s]\n",
            "val_loss: 0.004578823689371347\n",
            "\n",
            "Best val_loss So Far: 0.004578823689371347\n",
            "Total elapsed time: 00h 06m 57s\n",
            "INFO:tensorflow:Oracle triggered exit\n"
          ]
        }
      ]
    },
    {
      "cell_type": "code",
      "source": [
        "tuner.search_space_summary()"
      ],
      "metadata": {
        "colab": {
          "base_uri": "https://localhost:8080/"
        },
        "id": "3AvUGeurfbdq",
        "outputId": "00e0f179-0f7e-412f-e42d-839173612755"
      },
      "execution_count": null,
      "outputs": [
        {
          "output_type": "stream",
          "name": "stdout",
          "text": [
            "Search space summary\n",
            "Default search space size: 3\n",
            "units (Int)\n",
            "{'default': None, 'conditions': [], 'min_value': 32, 'max_value': 256, 'step': 32, 'sampling': None}\n",
            "rate (Choice)\n",
            "{'default': 0.2, 'conditions': [], 'values': [0.2, 0.3, 0.4], 'ordered': True}\n",
            "learning_rate (Choice)\n",
            "{'default': 0.0001, 'conditions': [], 'values': [0.0001, 0.001, 0.01, 0.1], 'ordered': True}\n"
          ]
        }
      ]
    },
    {
      "cell_type": "code",
      "source": [
        "tuner.results_summary()"
      ],
      "metadata": {
        "colab": {
          "base_uri": "https://localhost:8080/"
        },
        "id": "bmCKkg_kfed7",
        "outputId": "25205ff2-a515-4c60-b610-d751134d5027"
      },
      "execution_count": null,
      "outputs": [
        {
          "output_type": "stream",
          "name": "stdout",
          "text": [
            "Results summary\n",
            "Results in **checkpoint_filepath**/untitled_project\n",
            "Showing 10 best trials\n",
            "<keras_tuner.engine.objective.Objective object at 0x7f363f97d1d0>\n",
            "Trial summary\n",
            "Hyperparameters:\n",
            "units: 192\n",
            "rate: 0.4\n",
            "learning_rate: 0.01\n",
            "Score: 0.004578823689371347\n",
            "Trial summary\n",
            "Hyperparameters:\n",
            "units: 128\n",
            "rate: 0.2\n",
            "learning_rate: 0.01\n",
            "Score: 0.0048407865688204765\n",
            "Trial summary\n",
            "Hyperparameters:\n",
            "units: 256\n",
            "rate: 0.2\n",
            "learning_rate: 0.0001\n",
            "Score: 0.01840311661362648\n",
            "Trial summary\n",
            "Hyperparameters:\n",
            "units: 192\n",
            "rate: 0.2\n",
            "learning_rate: 0.0001\n",
            "Score: 0.02022196166217327\n",
            "Trial summary\n",
            "Hyperparameters:\n",
            "units: 160\n",
            "rate: 0.4\n",
            "learning_rate: 0.0001\n",
            "Score: 0.03192519024014473\n",
            "Trial summary\n",
            "Hyperparameters:\n",
            "units: 128\n",
            "rate: 0.4\n",
            "learning_rate: 0.0001\n",
            "Score: 0.056109145283699036\n"
          ]
        }
      ]
    },
    {
      "cell_type": "code",
      "source": [
        "# Get the optimal hyperparameters\n",
        "best_hps=tuner.get_best_hyperparameters(num_trials=1)[0]\n",
        "\n",
        "print(f\"\"\"\n",
        "The hyperparameter search is complete. The optimal number of units in the first densely-connected\n",
        "layer is {best_hps.get('units')} and the optimal learning rate for the optimizer\n",
        "is {best_hps.get('learning_rate')}.\n",
        "\"\"\")"
      ],
      "metadata": {
        "colab": {
          "base_uri": "https://localhost:8080/"
        },
        "id": "Iykbyb7QfhuW",
        "outputId": "3861a7e8-16b1-498a-de1b-8129ac732b9a"
      },
      "execution_count": null,
      "outputs": [
        {
          "output_type": "stream",
          "name": "stdout",
          "text": [
            "\n",
            "The hyperparameter search is complete. The optimal number of units in the first densely-connected\n",
            "layer is 192 and the optimal learning rate for the optimizer\n",
            "is 0.01.\n",
            "\n"
          ]
        }
      ]
    },
    {
      "cell_type": "code",
      "source": [
        "# Get the top 2 models.\n",
        "models = tuner.get_best_models(num_models=2)\n",
        "best_model = models[0]\n",
        "\n",
        "best_model.summary()"
      ],
      "metadata": {
        "colab": {
          "base_uri": "https://localhost:8080/"
        },
        "id": "elij1HE6fjiS",
        "outputId": "aaee62a1-6803-4b1e-aea8-4eb56e4c1a38"
      },
      "execution_count": null,
      "outputs": [
        {
          "output_type": "stream",
          "name": "stdout",
          "text": [
            "Model: \"sequential\"\n",
            "_________________________________________________________________\n",
            " Layer (type)                Output Shape              Param #   \n",
            "=================================================================\n",
            " lstm (LSTM)                 (None, 20, 192)           151296    \n",
            "                                                                 \n",
            " lstm_1 (LSTM)               (None, 20, 192)           295680    \n",
            "                                                                 \n",
            " dropout (Dropout)           (None, 20, 192)           0         \n",
            "                                                                 \n",
            " lstm_2 (LSTM)               (None, 192)               295680    \n",
            "                                                                 \n",
            " dropout_1 (Dropout)         (None, 192)               0         \n",
            "                                                                 \n",
            " dense (Dense)               (None, 1)                 193       \n",
            "                                                                 \n",
            "=================================================================\n",
            "Total params: 742,849\n",
            "Trainable params: 742,849\n",
            "Non-trainable params: 0\n",
            "_________________________________________________________________\n"
          ]
        }
      ]
    },
    {
      "cell_type": "code",
      "source": [
        "best_model.evaluate(trainX, trainY, verbose=0)"
      ],
      "metadata": {
        "colab": {
          "base_uri": "https://localhost:8080/"
        },
        "id": "UE3pmAscfmZZ",
        "outputId": "6e4545a6-5cff-403d-9692-d5b62da64c4d"
      },
      "execution_count": null,
      "outputs": [
        {
          "output_type": "execute_result",
          "data": {
            "text/plain": [
              "0.004439279902726412"
            ]
          },
          "metadata": {},
          "execution_count": 25
        }
      ]
    },
    {
      "cell_type": "code",
      "source": [
        "prediction=best_model.predict(trainX)"
      ],
      "metadata": {
        "id": "tSBfjMOqfoU9"
      },
      "execution_count": null,
      "outputs": []
    },
    {
      "cell_type": "code",
      "source": [
        "prediction.shape"
      ],
      "metadata": {
        "colab": {
          "base_uri": "https://localhost:8080/"
        },
        "id": "NGcxELtQfqvc",
        "outputId": "a6523bd5-6bc2-408c-936c-f74202cae58c"
      },
      "execution_count": null,
      "outputs": [
        {
          "output_type": "execute_result",
          "data": {
            "text/plain": [
              "(700, 1)"
            ]
          },
          "metadata": {},
          "execution_count": 27
        }
      ]
    },
    {
      "cell_type": "code",
      "source": [
        "df_train[:,1:][n_past:].shape"
      ],
      "metadata": {
        "colab": {
          "base_uri": "https://localhost:8080/"
        },
        "id": "xbd4upjxfuQe",
        "outputId": "a2441f5b-596b-4d5a-bc3e-f3d06781d021"
      },
      "execution_count": null,
      "outputs": [
        {
          "output_type": "execute_result",
          "data": {
            "text/plain": [
              "(700, 3)"
            ]
          },
          "metadata": {},
          "execution_count": 28
        }
      ]
    },
    {
      "cell_type": "code",
      "source": [
        "df_pred=pd.concat([pd.DataFrame(prediction), pd.DataFrame(df_train[:,1:][n_past:])], axis=1)\n"
      ],
      "metadata": {
        "id": "KGyhjXESfxcd"
      },
      "execution_count": null,
      "outputs": []
    },
    {
      "cell_type": "code",
      "source": [
        "rev_trans=scaler.inverse_transform(df_pred)"
      ],
      "metadata": {
        "id": "JDO3LWM-fzRz"
      },
      "execution_count": null,
      "outputs": []
    },
    {
      "cell_type": "code",
      "source": [
        "df_final=df_merged[prediction.shape[0]*-1:]\n",
        "df_final.head()"
      ],
      "metadata": {
        "colab": {
          "base_uri": "https://localhost:8080/",
          "height": 238
        },
        "id": "CU9VIK-Qf1Lf",
        "outputId": "f8eca799-5e7b-4c31-b840-23443e0d5850"
      },
      "execution_count": null,
      "outputs": [
        {
          "output_type": "execute_result",
          "data": {
            "text/plain": [
              "                                         prod    precip      smos       temp\n",
              "start_date                region_id                                         \n",
              "2015-03-01 00:00:00+00:00 93         247856.0  0.581672  0.180339  22.091759\n",
              "                          94          31839.0  0.427642  0.255167  27.485688\n",
              "                          95          18858.0  0.254019  0.262901  21.221056\n",
              "                          97          59585.0  0.497751  0.208238  27.000000\n",
              "                          98         218187.0  0.187027  0.220637  22.415666"
            ],
            "text/html": [
              "\n",
              "  <div id=\"df-a5a083ad-2cd8-4034-8b5f-15a9c24d0763\">\n",
              "    <div class=\"colab-df-container\">\n",
              "      <div>\n",
              "<style scoped>\n",
              "    .dataframe tbody tr th:only-of-type {\n",
              "        vertical-align: middle;\n",
              "    }\n",
              "\n",
              "    .dataframe tbody tr th {\n",
              "        vertical-align: top;\n",
              "    }\n",
              "\n",
              "    .dataframe thead th {\n",
              "        text-align: right;\n",
              "    }\n",
              "</style>\n",
              "<table border=\"1\" class=\"dataframe\">\n",
              "  <thead>\n",
              "    <tr style=\"text-align: right;\">\n",
              "      <th></th>\n",
              "      <th></th>\n",
              "      <th>prod</th>\n",
              "      <th>precip</th>\n",
              "      <th>smos</th>\n",
              "      <th>temp</th>\n",
              "    </tr>\n",
              "    <tr>\n",
              "      <th>start_date</th>\n",
              "      <th>region_id</th>\n",
              "      <th></th>\n",
              "      <th></th>\n",
              "      <th></th>\n",
              "      <th></th>\n",
              "    </tr>\n",
              "  </thead>\n",
              "  <tbody>\n",
              "    <tr>\n",
              "      <th rowspan=\"5\" valign=\"top\">2015-03-01 00:00:00+00:00</th>\n",
              "      <th>93</th>\n",
              "      <td>247856.0</td>\n",
              "      <td>0.581672</td>\n",
              "      <td>0.180339</td>\n",
              "      <td>22.091759</td>\n",
              "    </tr>\n",
              "    <tr>\n",
              "      <th>94</th>\n",
              "      <td>31839.0</td>\n",
              "      <td>0.427642</td>\n",
              "      <td>0.255167</td>\n",
              "      <td>27.485688</td>\n",
              "    </tr>\n",
              "    <tr>\n",
              "      <th>95</th>\n",
              "      <td>18858.0</td>\n",
              "      <td>0.254019</td>\n",
              "      <td>0.262901</td>\n",
              "      <td>21.221056</td>\n",
              "    </tr>\n",
              "    <tr>\n",
              "      <th>97</th>\n",
              "      <td>59585.0</td>\n",
              "      <td>0.497751</td>\n",
              "      <td>0.208238</td>\n",
              "      <td>27.000000</td>\n",
              "    </tr>\n",
              "    <tr>\n",
              "      <th>98</th>\n",
              "      <td>218187.0</td>\n",
              "      <td>0.187027</td>\n",
              "      <td>0.220637</td>\n",
              "      <td>22.415666</td>\n",
              "    </tr>\n",
              "  </tbody>\n",
              "</table>\n",
              "</div>\n",
              "      <button class=\"colab-df-convert\" onclick=\"convertToInteractive('df-a5a083ad-2cd8-4034-8b5f-15a9c24d0763')\"\n",
              "              title=\"Convert this dataframe to an interactive table.\"\n",
              "              style=\"display:none;\">\n",
              "        \n",
              "  <svg xmlns=\"http://www.w3.org/2000/svg\" height=\"24px\"viewBox=\"0 0 24 24\"\n",
              "       width=\"24px\">\n",
              "    <path d=\"M0 0h24v24H0V0z\" fill=\"none\"/>\n",
              "    <path d=\"M18.56 5.44l.94 2.06.94-2.06 2.06-.94-2.06-.94-.94-2.06-.94 2.06-2.06.94zm-11 1L8.5 8.5l.94-2.06 2.06-.94-2.06-.94L8.5 2.5l-.94 2.06-2.06.94zm10 10l.94 2.06.94-2.06 2.06-.94-2.06-.94-.94-2.06-.94 2.06-2.06.94z\"/><path d=\"M17.41 7.96l-1.37-1.37c-.4-.4-.92-.59-1.43-.59-.52 0-1.04.2-1.43.59L10.3 9.45l-7.72 7.72c-.78.78-.78 2.05 0 2.83L4 21.41c.39.39.9.59 1.41.59.51 0 1.02-.2 1.41-.59l7.78-7.78 2.81-2.81c.8-.78.8-2.07 0-2.86zM5.41 20L4 18.59l7.72-7.72 1.47 1.35L5.41 20z\"/>\n",
              "  </svg>\n",
              "      </button>\n",
              "      \n",
              "  <style>\n",
              "    .colab-df-container {\n",
              "      display:flex;\n",
              "      flex-wrap:wrap;\n",
              "      gap: 12px;\n",
              "    }\n",
              "\n",
              "    .colab-df-convert {\n",
              "      background-color: #E8F0FE;\n",
              "      border: none;\n",
              "      border-radius: 50%;\n",
              "      cursor: pointer;\n",
              "      display: none;\n",
              "      fill: #1967D2;\n",
              "      height: 32px;\n",
              "      padding: 0 0 0 0;\n",
              "      width: 32px;\n",
              "    }\n",
              "\n",
              "    .colab-df-convert:hover {\n",
              "      background-color: #E2EBFA;\n",
              "      box-shadow: 0px 1px 2px rgba(60, 64, 67, 0.3), 0px 1px 3px 1px rgba(60, 64, 67, 0.15);\n",
              "      fill: #174EA6;\n",
              "    }\n",
              "\n",
              "    [theme=dark] .colab-df-convert {\n",
              "      background-color: #3B4455;\n",
              "      fill: #D2E3FC;\n",
              "    }\n",
              "\n",
              "    [theme=dark] .colab-df-convert:hover {\n",
              "      background-color: #434B5C;\n",
              "      box-shadow: 0px 1px 3px 1px rgba(0, 0, 0, 0.15);\n",
              "      filter: drop-shadow(0px 1px 2px rgba(0, 0, 0, 0.3));\n",
              "      fill: #FFFFFF;\n",
              "    }\n",
              "  </style>\n",
              "\n",
              "      <script>\n",
              "        const buttonEl =\n",
              "          document.querySelector('#df-a5a083ad-2cd8-4034-8b5f-15a9c24d0763 button.colab-df-convert');\n",
              "        buttonEl.style.display =\n",
              "          google.colab.kernel.accessAllowed ? 'block' : 'none';\n",
              "\n",
              "        async function convertToInteractive(key) {\n",
              "          const element = document.querySelector('#df-a5a083ad-2cd8-4034-8b5f-15a9c24d0763');\n",
              "          const dataTable =\n",
              "            await google.colab.kernel.invokeFunction('convertToInteractive',\n",
              "                                                     [key], {});\n",
              "          if (!dataTable) return;\n",
              "\n",
              "          const docLinkHtml = 'Like what you see? Visit the ' +\n",
              "            '<a target=\"_blank\" href=https://colab.research.google.com/notebooks/data_table.ipynb>data table notebook</a>'\n",
              "            + ' to learn more about interactive tables.';\n",
              "          element.innerHTML = '';\n",
              "          dataTable['output_type'] = 'display_data';\n",
              "          await google.colab.output.renderOutput(dataTable, element);\n",
              "          const docLink = document.createElement('div');\n",
              "          docLink.innerHTML = docLinkHtml;\n",
              "          element.appendChild(docLink);\n",
              "        }\n",
              "      </script>\n",
              "    </div>\n",
              "  </div>\n",
              "  "
            ]
          },
          "metadata": {},
          "execution_count": 31
        }
      ]
    },
    {
      "cell_type": "code",
      "source": [
        "rev_trans.shape"
      ],
      "metadata": {
        "colab": {
          "base_uri": "https://localhost:8080/"
        },
        "id": "iEVYvidYf49s",
        "outputId": "73394d24-ccb2-4eca-e729-28cbb2cb1369"
      },
      "execution_count": null,
      "outputs": [
        {
          "output_type": "execute_result",
          "data": {
            "text/plain": [
              "(700, 4)"
            ]
          },
          "metadata": {},
          "execution_count": 32
        }
      ]
    },
    {
      "cell_type": "code",
      "source": [
        "df_final['prod_predict']=rev_trans[:,0]"
      ],
      "metadata": {
        "colab": {
          "base_uri": "https://localhost:8080/"
        },
        "id": "qwyNsdJAf7TW",
        "outputId": "ab4f6bf1-768a-4b92-97f3-a26438ce19cc"
      },
      "execution_count": null,
      "outputs": [
        {
          "output_type": "stream",
          "name": "stderr",
          "text": [
            "/usr/local/lib/python3.7/dist-packages/ipykernel_launcher.py:1: SettingWithCopyWarning: \n",
            "A value is trying to be set on a copy of a slice from a DataFrame.\n",
            "Try using .loc[row_indexer,col_indexer] = value instead\n",
            "\n",
            "See the caveats in the documentation: https://pandas.pydata.org/pandas-docs/stable/user_guide/indexing.html#returning-a-view-versus-a-copy\n",
            "  \"\"\"Entry point for launching an IPython kernel.\n"
          ]
        }
      ]
    },
    {
      "cell_type": "code",
      "source": [
        "df_final"
      ],
      "metadata": {
        "colab": {
          "base_uri": "https://localhost:8080/",
          "height": 455
        },
        "id": "5t7DKiJHf9-W",
        "outputId": "8af422da-1f6e-4b70-c295-4ad80d19b63e"
      },
      "execution_count": null,
      "outputs": [
        {
          "output_type": "execute_result",
          "data": {
            "text/plain": [
              "                                         prod     precip      smos       temp  \\\n",
              "start_date                region_id                                             \n",
              "2015-03-01 00:00:00+00:00 93         247856.0   0.581672  0.180339  22.091759   \n",
              "                          94          31839.0   0.427642  0.255167  27.485688   \n",
              "                          95          18858.0   0.254019  0.262901  21.221056   \n",
              "                          97          59585.0   0.497751  0.208238  27.000000   \n",
              "                          98         218187.0   0.187027  0.220637  22.415666   \n",
              "...                                       ...        ...       ...        ...   \n",
              "2020-12-01 00:00:00+00:00 99         124475.0   3.006772  0.336068  27.000000   \n",
              "                          102        326135.0   0.952760  0.335132  20.639301   \n",
              "                          103        306488.0  16.133662  0.265341  23.714268   \n",
              "                          104         32747.0   4.609789  0.413316  27.000000   \n",
              "                          105         35728.0  10.493345  0.312957  27.000000   \n",
              "\n",
              "                                      prod_predict  \n",
              "start_date                region_id                 \n",
              "2015-03-01 00:00:00+00:00 93         172681.607792  \n",
              "                          94          43821.064413  \n",
              "                          95          42695.450997  \n",
              "                          97          55749.130355  \n",
              "                          98         154785.486284  \n",
              "...                                            ...  \n",
              "2020-12-01 00:00:00+00:00 99         141993.186413  \n",
              "                          102        401717.268377  \n",
              "                          103        328489.043221  \n",
              "                          104         38899.900258  \n",
              "                          105         44386.631085  \n",
              "\n",
              "[700 rows x 5 columns]"
            ],
            "text/html": [
              "\n",
              "  <div id=\"df-28240a8f-3a0e-42fe-91c8-f889baf9e52d\">\n",
              "    <div class=\"colab-df-container\">\n",
              "      <div>\n",
              "<style scoped>\n",
              "    .dataframe tbody tr th:only-of-type {\n",
              "        vertical-align: middle;\n",
              "    }\n",
              "\n",
              "    .dataframe tbody tr th {\n",
              "        vertical-align: top;\n",
              "    }\n",
              "\n",
              "    .dataframe thead th {\n",
              "        text-align: right;\n",
              "    }\n",
              "</style>\n",
              "<table border=\"1\" class=\"dataframe\">\n",
              "  <thead>\n",
              "    <tr style=\"text-align: right;\">\n",
              "      <th></th>\n",
              "      <th></th>\n",
              "      <th>prod</th>\n",
              "      <th>precip</th>\n",
              "      <th>smos</th>\n",
              "      <th>temp</th>\n",
              "      <th>prod_predict</th>\n",
              "    </tr>\n",
              "    <tr>\n",
              "      <th>start_date</th>\n",
              "      <th>region_id</th>\n",
              "      <th></th>\n",
              "      <th></th>\n",
              "      <th></th>\n",
              "      <th></th>\n",
              "      <th></th>\n",
              "    </tr>\n",
              "  </thead>\n",
              "  <tbody>\n",
              "    <tr>\n",
              "      <th rowspan=\"5\" valign=\"top\">2015-03-01 00:00:00+00:00</th>\n",
              "      <th>93</th>\n",
              "      <td>247856.0</td>\n",
              "      <td>0.581672</td>\n",
              "      <td>0.180339</td>\n",
              "      <td>22.091759</td>\n",
              "      <td>172681.607792</td>\n",
              "    </tr>\n",
              "    <tr>\n",
              "      <th>94</th>\n",
              "      <td>31839.0</td>\n",
              "      <td>0.427642</td>\n",
              "      <td>0.255167</td>\n",
              "      <td>27.485688</td>\n",
              "      <td>43821.064413</td>\n",
              "    </tr>\n",
              "    <tr>\n",
              "      <th>95</th>\n",
              "      <td>18858.0</td>\n",
              "      <td>0.254019</td>\n",
              "      <td>0.262901</td>\n",
              "      <td>21.221056</td>\n",
              "      <td>42695.450997</td>\n",
              "    </tr>\n",
              "    <tr>\n",
              "      <th>97</th>\n",
              "      <td>59585.0</td>\n",
              "      <td>0.497751</td>\n",
              "      <td>0.208238</td>\n",
              "      <td>27.000000</td>\n",
              "      <td>55749.130355</td>\n",
              "    </tr>\n",
              "    <tr>\n",
              "      <th>98</th>\n",
              "      <td>218187.0</td>\n",
              "      <td>0.187027</td>\n",
              "      <td>0.220637</td>\n",
              "      <td>22.415666</td>\n",
              "      <td>154785.486284</td>\n",
              "    </tr>\n",
              "    <tr>\n",
              "      <th>...</th>\n",
              "      <th>...</th>\n",
              "      <td>...</td>\n",
              "      <td>...</td>\n",
              "      <td>...</td>\n",
              "      <td>...</td>\n",
              "      <td>...</td>\n",
              "    </tr>\n",
              "    <tr>\n",
              "      <th rowspan=\"5\" valign=\"top\">2020-12-01 00:00:00+00:00</th>\n",
              "      <th>99</th>\n",
              "      <td>124475.0</td>\n",
              "      <td>3.006772</td>\n",
              "      <td>0.336068</td>\n",
              "      <td>27.000000</td>\n",
              "      <td>141993.186413</td>\n",
              "    </tr>\n",
              "    <tr>\n",
              "      <th>102</th>\n",
              "      <td>326135.0</td>\n",
              "      <td>0.952760</td>\n",
              "      <td>0.335132</td>\n",
              "      <td>20.639301</td>\n",
              "      <td>401717.268377</td>\n",
              "    </tr>\n",
              "    <tr>\n",
              "      <th>103</th>\n",
              "      <td>306488.0</td>\n",
              "      <td>16.133662</td>\n",
              "      <td>0.265341</td>\n",
              "      <td>23.714268</td>\n",
              "      <td>328489.043221</td>\n",
              "    </tr>\n",
              "    <tr>\n",
              "      <th>104</th>\n",
              "      <td>32747.0</td>\n",
              "      <td>4.609789</td>\n",
              "      <td>0.413316</td>\n",
              "      <td>27.000000</td>\n",
              "      <td>38899.900258</td>\n",
              "    </tr>\n",
              "    <tr>\n",
              "      <th>105</th>\n",
              "      <td>35728.0</td>\n",
              "      <td>10.493345</td>\n",
              "      <td>0.312957</td>\n",
              "      <td>27.000000</td>\n",
              "      <td>44386.631085</td>\n",
              "    </tr>\n",
              "  </tbody>\n",
              "</table>\n",
              "<p>700 rows × 5 columns</p>\n",
              "</div>\n",
              "      <button class=\"colab-df-convert\" onclick=\"convertToInteractive('df-28240a8f-3a0e-42fe-91c8-f889baf9e52d')\"\n",
              "              title=\"Convert this dataframe to an interactive table.\"\n",
              "              style=\"display:none;\">\n",
              "        \n",
              "  <svg xmlns=\"http://www.w3.org/2000/svg\" height=\"24px\"viewBox=\"0 0 24 24\"\n",
              "       width=\"24px\">\n",
              "    <path d=\"M0 0h24v24H0V0z\" fill=\"none\"/>\n",
              "    <path d=\"M18.56 5.44l.94 2.06.94-2.06 2.06-.94-2.06-.94-.94-2.06-.94 2.06-2.06.94zm-11 1L8.5 8.5l.94-2.06 2.06-.94-2.06-.94L8.5 2.5l-.94 2.06-2.06.94zm10 10l.94 2.06.94-2.06 2.06-.94-2.06-.94-.94-2.06-.94 2.06-2.06.94z\"/><path d=\"M17.41 7.96l-1.37-1.37c-.4-.4-.92-.59-1.43-.59-.52 0-1.04.2-1.43.59L10.3 9.45l-7.72 7.72c-.78.78-.78 2.05 0 2.83L4 21.41c.39.39.9.59 1.41.59.51 0 1.02-.2 1.41-.59l7.78-7.78 2.81-2.81c.8-.78.8-2.07 0-2.86zM5.41 20L4 18.59l7.72-7.72 1.47 1.35L5.41 20z\"/>\n",
              "  </svg>\n",
              "      </button>\n",
              "      \n",
              "  <style>\n",
              "    .colab-df-container {\n",
              "      display:flex;\n",
              "      flex-wrap:wrap;\n",
              "      gap: 12px;\n",
              "    }\n",
              "\n",
              "    .colab-df-convert {\n",
              "      background-color: #E8F0FE;\n",
              "      border: none;\n",
              "      border-radius: 50%;\n",
              "      cursor: pointer;\n",
              "      display: none;\n",
              "      fill: #1967D2;\n",
              "      height: 32px;\n",
              "      padding: 0 0 0 0;\n",
              "      width: 32px;\n",
              "    }\n",
              "\n",
              "    .colab-df-convert:hover {\n",
              "      background-color: #E2EBFA;\n",
              "      box-shadow: 0px 1px 2px rgba(60, 64, 67, 0.3), 0px 1px 3px 1px rgba(60, 64, 67, 0.15);\n",
              "      fill: #174EA6;\n",
              "    }\n",
              "\n",
              "    [theme=dark] .colab-df-convert {\n",
              "      background-color: #3B4455;\n",
              "      fill: #D2E3FC;\n",
              "    }\n",
              "\n",
              "    [theme=dark] .colab-df-convert:hover {\n",
              "      background-color: #434B5C;\n",
              "      box-shadow: 0px 1px 3px 1px rgba(0, 0, 0, 0.15);\n",
              "      filter: drop-shadow(0px 1px 2px rgba(0, 0, 0, 0.3));\n",
              "      fill: #FFFFFF;\n",
              "    }\n",
              "  </style>\n",
              "\n",
              "      <script>\n",
              "        const buttonEl =\n",
              "          document.querySelector('#df-28240a8f-3a0e-42fe-91c8-f889baf9e52d button.colab-df-convert');\n",
              "        buttonEl.style.display =\n",
              "          google.colab.kernel.accessAllowed ? 'block' : 'none';\n",
              "\n",
              "        async function convertToInteractive(key) {\n",
              "          const element = document.querySelector('#df-28240a8f-3a0e-42fe-91c8-f889baf9e52d');\n",
              "          const dataTable =\n",
              "            await google.colab.kernel.invokeFunction('convertToInteractive',\n",
              "                                                     [key], {});\n",
              "          if (!dataTable) return;\n",
              "\n",
              "          const docLinkHtml = 'Like what you see? Visit the ' +\n",
              "            '<a target=\"_blank\" href=https://colab.research.google.com/notebooks/data_table.ipynb>data table notebook</a>'\n",
              "            + ' to learn more about interactive tables.';\n",
              "          element.innerHTML = '';\n",
              "          dataTable['output_type'] = 'display_data';\n",
              "          await google.colab.output.renderOutput(dataTable, element);\n",
              "          const docLink = document.createElement('div');\n",
              "          docLink.innerHTML = docLinkHtml;\n",
              "          element.appendChild(docLink);\n",
              "        }\n",
              "      </script>\n",
              "    </div>\n",
              "  </div>\n",
              "  "
            ]
          },
          "metadata": {},
          "execution_count": 34
        }
      ]
    },
    {
      "cell_type": "code",
      "source": [
        "df_final[['prod','prod_predict']][300:400].plot(figsize=(20,7), fontsize=10, rot=20);"
      ],
      "metadata": {
        "colab": {
          "base_uri": "https://localhost:8080/",
          "height": 405
        },
        "id": "RtBY5V8hgAnI",
        "outputId": "1acfc826-ceeb-443d-cee2-5e59940e9b47"
      },
      "execution_count": null,
      "outputs": [
        {
          "output_type": "display_data",
          "data": {
            "text/plain": [
              "<Figure size 1440x504 with 1 Axes>"
            ],
            "image/png": "[encoded data removed]"
          },
          "metadata": {
            "needs_background": "light"
          }
        }
      ]
    },
    {
      "cell_type": "markdown",
      "source": [
        "**Forecasting**"
      ],
      "metadata": {
        "id": "r5rpwrF0gDiz"
      }
    },
    {
      "cell_type": "code",
      "source": [
        "n_future=120\n",
        "forcast=best_model.predict(trainX[-n_future:])"
      ],
      "metadata": {
        "id": "Chcer1lOgFTW"
      },
      "execution_count": null,
      "outputs": []
    },
    {
      "cell_type": "code",
      "source": [
        "forcast.shape"
      ],
      "metadata": {
        "colab": {
          "base_uri": "https://localhost:8080/"
        },
        "id": "V0dLxBD0gJvg",
        "outputId": "ccba04a1-ffa7-415d-83b0-50400dcea8d1"
      },
      "execution_count": null,
      "outputs": [
        {
          "output_type": "execute_result",
          "data": {
            "text/plain": [
              "(120, 1)"
            ]
          },
          "metadata": {},
          "execution_count": 37
        }
      ]
    },
    {
      "cell_type": "code",
      "source": [
        "forcast_copies=np.repeat(forcast, df_merged.shape[1], axis=-1)"
      ],
      "metadata": {
        "id": "xatrDjWmgMai"
      },
      "execution_count": null,
      "outputs": []
    },
    {
      "cell_type": "code",
      "source": [
        "forcast_copies[:2]"
      ],
      "metadata": {
        "colab": {
          "base_uri": "https://localhost:8080/"
        },
        "id": "WUigjjNagOvd",
        "outputId": "16635787-7199-471d-b75a-90c8a54ebaba"
      },
      "execution_count": null,
      "outputs": [
        {
          "output_type": "execute_result",
          "data": {
            "text/plain": [
              "array([[0.3038169 , 0.3038169 , 0.3038169 , 0.3038169 ],\n",
              "       [0.03460968, 0.03460968, 0.03460968, 0.03460968]], dtype=float32)"
            ]
          },
          "metadata": {},
          "execution_count": 39
        }
      ]
    },
    {
      "cell_type": "code",
      "source": [
        "y_pred_future=scaler.inverse_transform(forcast_copies)[:,0]"
      ],
      "metadata": {
        "id": "SKyMpaE8gRw6"
      },
      "execution_count": null,
      "outputs": []
    },
    {
      "cell_type": "code",
      "source": [
        "y_pred_future[:3]"
      ],
      "metadata": {
        "colab": {
          "base_uri": "https://localhost:8080/"
        },
        "id": "05IuWrPigTDy",
        "outputId": "25f83452-ee4d-4257-9844-8dc23544e367"
      },
      "execution_count": null,
      "outputs": [
        {
          "output_type": "execute_result",
          "data": {
            "text/plain": [
              "array([187450.84 ,  30405.04 ,  30821.975], dtype=float32)"
            ]
          },
          "metadata": {},
          "execution_count": 41
        }
      ]
    },
    {
      "cell_type": "code",
      "source": [
        "y_pred_future_series=pd.Series(y_pred_future)\n",
        "y_pred_future_series"
      ],
      "metadata": {
        "colab": {
          "base_uri": "https://localhost:8080/"
        },
        "id": "SNf3PRGggV_z",
        "outputId": "4937713d-b412-4af3-b90c-df4dd4fb6eac"
      },
      "execution_count": null,
      "outputs": [
        {
          "output_type": "execute_result",
          "data": {
            "text/plain": [
              "0      187450.843750\n",
              "1       30405.039062\n",
              "2       30821.974609\n",
              "3       46943.156250\n",
              "4      191321.296875\n",
              "           ...      \n",
              "115    141993.187500\n",
              "116    401717.281250\n",
              "117    328489.062500\n",
              "118     38899.902344\n",
              "119     44386.632812\n",
              "Length: 120, dtype: float32"
            ]
          },
          "metadata": {},
          "execution_count": 42
        }
      ]
    },
    {
      "cell_type": "code",
      "source": [
        "df_qty['prod']=y_pred_future_series\n",
        "df_qty.head()\n"
      ],
      "metadata": {
        "colab": {
          "base_uri": "https://localhost:8080/",
          "height": 206
        },
        "id": "M7GYToKOgaIj",
        "outputId": "7f2f52cc-e54e-46df-e58f-5565baf822d5"
      },
      "execution_count": null,
      "outputs": [
        {
          "output_type": "execute_result",
          "data": {
            "text/plain": [
              "                 start_date                  end_date           prod  \\\n",
              "0 2021-01-01 00:00:00+00:00 2021-01-31 00:00:00+00:00  187450.843750   \n",
              "1 2021-02-01 00:00:00+00:00 2021-02-28 00:00:00+00:00   30405.039062   \n",
              "2 2021-03-01 00:00:00+00:00 2021-03-31 00:00:00+00:00   30821.974609   \n",
              "3 2021-04-01 00:00:00+00:00 2021-04-30 00:00:00+00:00   46943.156250   \n",
              "4 2021-05-01 00:00:00+00:00 2021-05-31 00:00:00+00:00  191321.296875   \n",
              "\n",
              "   region_id  \n",
              "0         93  \n",
              "1         93  \n",
              "2         93  \n",
              "3         93  \n",
              "4         93  "
            ],
            "text/html": [
              "\n",
              "  <div id=\"df-4fbec876-43a9-4e9c-901a-7d2a6df19562\">\n",
              "    <div class=\"colab-df-container\">\n",
              "      <div>\n",
              "<style scoped>\n",
              "    .dataframe tbody tr th:only-of-type {\n",
              "        vertical-align: middle;\n",
              "    }\n",
              "\n",
              "    .dataframe tbody tr th {\n",
              "        vertical-align: top;\n",
              "    }\n",
              "\n",
              "    .dataframe thead th {\n",
              "        text-align: right;\n",
              "    }\n",
              "</style>\n",
              "<table border=\"1\" class=\"dataframe\">\n",
              "  <thead>\n",
              "    <tr style=\"text-align: right;\">\n",
              "      <th></th>\n",
              "      <th>start_date</th>\n",
              "      <th>end_date</th>\n",
              "      <th>prod</th>\n",
              "      <th>region_id</th>\n",
              "    </tr>\n",
              "  </thead>\n",
              "  <tbody>\n",
              "    <tr>\n",
              "      <th>0</th>\n",
              "      <td>2021-01-01 00:00:00+00:00</td>\n",
              "      <td>2021-01-31 00:00:00+00:00</td>\n",
              "      <td>187450.843750</td>\n",
              "      <td>93</td>\n",
              "    </tr>\n",
              "    <tr>\n",
              "      <th>1</th>\n",
              "      <td>2021-02-01 00:00:00+00:00</td>\n",
              "      <td>2021-02-28 00:00:00+00:00</td>\n",
              "      <td>30405.039062</td>\n",
              "      <td>93</td>\n",
              "    </tr>\n",
              "    <tr>\n",
              "      <th>2</th>\n",
              "      <td>2021-03-01 00:00:00+00:00</td>\n",
              "      <td>2021-03-31 00:00:00+00:00</td>\n",
              "      <td>30821.974609</td>\n",
              "      <td>93</td>\n",
              "    </tr>\n",
              "    <tr>\n",
              "      <th>3</th>\n",
              "      <td>2021-04-01 00:00:00+00:00</td>\n",
              "      <td>2021-04-30 00:00:00+00:00</td>\n",
              "      <td>46943.156250</td>\n",
              "      <td>93</td>\n",
              "    </tr>\n",
              "    <tr>\n",
              "      <th>4</th>\n",
              "      <td>2021-05-01 00:00:00+00:00</td>\n",
              "      <td>2021-05-31 00:00:00+00:00</td>\n",
              "      <td>191321.296875</td>\n",
              "      <td>93</td>\n",
              "    </tr>\n",
              "  </tbody>\n",
              "</table>\n",
              "</div>\n",
              "      <button class=\"colab-df-convert\" onclick=\"convertToInteractive('df-4fbec876-43a9-4e9c-901a-7d2a6df19562')\"\n",
              "              title=\"Convert this dataframe to an interactive table.\"\n",
              "              style=\"display:none;\">\n",
              "        \n",
              "  <svg xmlns=\"http://www.w3.org/2000/svg\" height=\"24px\"viewBox=\"0 0 24 24\"\n",
              "       width=\"24px\">\n",
              "    <path d=\"M0 0h24v24H0V0z\" fill=\"none\"/>\n",
              "    <path d=\"M18.56 5.44l.94 2.06.94-2.06 2.06-.94-2.06-.94-.94-2.06-.94 2.06-2.06.94zm-11 1L8.5 8.5l.94-2.06 2.06-.94-2.06-.94L8.5 2.5l-.94 2.06-2.06.94zm10 10l.94 2.06.94-2.06 2.06-.94-2.06-.94-.94-2.06-.94 2.06-2.06.94z\"/><path d=\"M17.41 7.96l-1.37-1.37c-.4-.4-.92-.59-1.43-.59-.52 0-1.04.2-1.43.59L10.3 9.45l-7.72 7.72c-.78.78-.78 2.05 0 2.83L4 21.41c.39.39.9.59 1.41.59.51 0 1.02-.2 1.41-.59l7.78-7.78 2.81-2.81c.8-.78.8-2.07 0-2.86zM5.41 20L4 18.59l7.72-7.72 1.47 1.35L5.41 20z\"/>\n",
              "  </svg>\n",
              "      </button>\n",
              "      \n",
              "  <style>\n",
              "    .colab-df-container {\n",
              "      display:flex;\n",
              "      flex-wrap:wrap;\n",
              "      gap: 12px;\n",
              "    }\n",
              "\n",
              "    .colab-df-convert {\n",
              "      background-color: #E8F0FE;\n",
              "      border: none;\n",
              "      border-radius: 50%;\n",
              "      cursor: pointer;\n",
              "      display: none;\n",
              "      fill: #1967D2;\n",
              "      height: 32px;\n",
              "      padding: 0 0 0 0;\n",
              "      width: 32px;\n",
              "    }\n",
              "\n",
              "    .colab-df-convert:hover {\n",
              "      background-color: #E2EBFA;\n",
              "      box-shadow: 0px 1px 2px rgba(60, 64, 67, 0.3), 0px 1px 3px 1px rgba(60, 64, 67, 0.15);\n",
              "      fill: #174EA6;\n",
              "    }\n",
              "\n",
              "    [theme=dark] .colab-df-convert {\n",
              "      background-color: #3B4455;\n",
              "      fill: #D2E3FC;\n",
              "    }\n",
              "\n",
              "    [theme=dark] .colab-df-convert:hover {\n",
              "      background-color: #434B5C;\n",
              "      box-shadow: 0px 1px 3px 1px rgba(0, 0, 0, 0.15);\n",
              "      filter: drop-shadow(0px 1px 2px rgba(0, 0, 0, 0.3));\n",
              "      fill: #FFFFFF;\n",
              "    }\n",
              "  </style>\n",
              "\n",
              "      <script>\n",
              "        const buttonEl =\n",
              "          document.querySelector('#df-4fbec876-43a9-4e9c-901a-7d2a6df19562 button.colab-df-convert');\n",
              "        buttonEl.style.display =\n",
              "          google.colab.kernel.accessAllowed ? 'block' : 'none';\n",
              "\n",
              "        async function convertToInteractive(key) {\n",
              "          const element = document.querySelector('#df-4fbec876-43a9-4e9c-901a-7d2a6df19562');\n",
              "          const dataTable =\n",
              "            await google.colab.kernel.invokeFunction('convertToInteractive',\n",
              "                                                     [key], {});\n",
              "          if (!dataTable) return;\n",
              "\n",
              "          const docLinkHtml = 'Like what you see? Visit the ' +\n",
              "            '<a target=\"_blank\" href=https://colab.research.google.com/notebooks/data_table.ipynb>data table notebook</a>'\n",
              "            + ' to learn more about interactive tables.';\n",
              "          element.innerHTML = '';\n",
              "          dataTable['output_type'] = 'display_data';\n",
              "          await google.colab.output.renderOutput(dataTable, element);\n",
              "          const docLink = document.createElement('div');\n",
              "          docLink.innerHTML = docLinkHtml;\n",
              "          element.appendChild(docLink);\n",
              "        }\n",
              "      </script>\n",
              "    </div>\n",
              "  </div>\n",
              "  "
            ]
          },
          "metadata": {},
          "execution_count": 43
        }
      ]
    },
    {
      "cell_type": "code",
      "source": [
        "df_qty.to_csv('azamnouri2024@gmail.com.csv', index=True)"
      ],
      "metadata": {
        "id": "DrdWWamLgdWW"
      },
      "execution_count": null,
      "outputs": []
    },
    {
      "cell_type": "code",
      "source": [
        "df_qty1=df_qty.groupby(['start_date','region_id']).mean()\n",
        "df_qty1"
      ],
      "metadata": {
        "colab": {
          "base_uri": "https://localhost:8080/",
          "height": 455
        },
        "id": "ttISPaA0gfKK",
        "outputId": "78b117e4-c8a2-49f3-b2b2-e412bd480d82"
      },
      "execution_count": null,
      "outputs": [
        {
          "output_type": "execute_result",
          "data": {
            "text/plain": [
              "                                              prod\n",
              "start_date                region_id               \n",
              "2021-01-01 00:00:00+00:00 93         187450.843750\n",
              "                          94          40808.812500\n",
              "                          95         147220.734375\n",
              "                          97         300186.062500\n",
              "                          98          41421.183594\n",
              "...                                            ...\n",
              "2021-12-01 00:00:00+00:00 99          36388.390625\n",
              "                          102         55504.667969\n",
              "                          103        172342.546875\n",
              "                          104        377895.312500\n",
              "                          105         44386.632812\n",
              "\n",
              "[120 rows x 1 columns]"
            ],
            "text/html": [
              "\n",
              "  <div id=\"df-72d6d2b3-714a-4667-b594-9a177f9ee9ad\">\n",
              "    <div class=\"colab-df-container\">\n",
              "      <div>\n",
              "<style scoped>\n",
              "    .dataframe tbody tr th:only-of-type {\n",
              "        vertical-align: middle;\n",
              "    }\n",
              "\n",
              "    .dataframe tbody tr th {\n",
              "        vertical-align: top;\n",
              "    }\n",
              "\n",
              "    .dataframe thead th {\n",
              "        text-align: right;\n",
              "    }\n",
              "</style>\n",
              "<table border=\"1\" class=\"dataframe\">\n",
              "  <thead>\n",
              "    <tr style=\"text-align: right;\">\n",
              "      <th></th>\n",
              "      <th></th>\n",
              "      <th>prod</th>\n",
              "    </tr>\n",
              "    <tr>\n",
              "      <th>start_date</th>\n",
              "      <th>region_id</th>\n",
              "      <th></th>\n",
              "    </tr>\n",
              "  </thead>\n",
              "  <tbody>\n",
              "    <tr>\n",
              "      <th rowspan=\"5\" valign=\"top\">2021-01-01 00:00:00+00:00</th>\n",
              "      <th>93</th>\n",
              "      <td>187450.843750</td>\n",
              "    </tr>\n",
              "    <tr>\n",
              "      <th>94</th>\n",
              "      <td>40808.812500</td>\n",
              "    </tr>\n",
              "    <tr>\n",
              "      <th>95</th>\n",
              "      <td>147220.734375</td>\n",
              "    </tr>\n",
              "    <tr>\n",
              "      <th>97</th>\n",
              "      <td>300186.062500</td>\n",
              "    </tr>\n",
              "    <tr>\n",
              "      <th>98</th>\n",
              "      <td>41421.183594</td>\n",
              "    </tr>\n",
              "    <tr>\n",
              "      <th>...</th>\n",
              "      <th>...</th>\n",
              "      <td>...</td>\n",
              "    </tr>\n",
              "    <tr>\n",
              "      <th rowspan=\"5\" valign=\"top\">2021-12-01 00:00:00+00:00</th>\n",
              "      <th>99</th>\n",
              "      <td>36388.390625</td>\n",
              "    </tr>\n",
              "    <tr>\n",
              "      <th>102</th>\n",
              "      <td>55504.667969</td>\n",
              "    </tr>\n",
              "    <tr>\n",
              "      <th>103</th>\n",
              "      <td>172342.546875</td>\n",
              "    </tr>\n",
              "    <tr>\n",
              "      <th>104</th>\n",
              "      <td>377895.312500</td>\n",
              "    </tr>\n",
              "    <tr>\n",
              "      <th>105</th>\n",
              "      <td>44386.632812</td>\n",
              "    </tr>\n",
              "  </tbody>\n",
              "</table>\n",
              "<p>120 rows × 1 columns</p>\n",
              "</div>\n",
              "      <button class=\"colab-df-convert\" onclick=\"convertToInteractive('df-72d6d2b3-714a-4667-b594-9a177f9ee9ad')\"\n",
              "              title=\"Convert this dataframe to an interactive table.\"\n",
              "              style=\"display:none;\">\n",
              "        \n",
              "  <svg xmlns=\"http://www.w3.org/2000/svg\" height=\"24px\"viewBox=\"0 0 24 24\"\n",
              "       width=\"24px\">\n",
              "    <path d=\"M0 0h24v24H0V0z\" fill=\"none\"/>\n",
              "    <path d=\"M18.56 5.44l.94 2.06.94-2.06 2.06-.94-2.06-.94-.94-2.06-.94 2.06-2.06.94zm-11 1L8.5 8.5l.94-2.06 2.06-.94-2.06-.94L8.5 2.5l-.94 2.06-2.06.94zm10 10l.94 2.06.94-2.06 2.06-.94-2.06-.94-.94-2.06-.94 2.06-2.06.94z\"/><path d=\"M17.41 7.96l-1.37-1.37c-.4-.4-.92-.59-1.43-.59-.52 0-1.04.2-1.43.59L10.3 9.45l-7.72 7.72c-.78.78-.78 2.05 0 2.83L4 21.41c.39.39.9.59 1.41.59.51 0 1.02-.2 1.41-.59l7.78-7.78 2.81-2.81c.8-.78.8-2.07 0-2.86zM5.41 20L4 18.59l7.72-7.72 1.47 1.35L5.41 20z\"/>\n",
              "  </svg>\n",
              "      </button>\n",
              "      \n",
              "  <style>\n",
              "    .colab-df-container {\n",
              "      display:flex;\n",
              "      flex-wrap:wrap;\n",
              "      gap: 12px;\n",
              "    }\n",
              "\n",
              "    .colab-df-convert {\n",
              "      background-color: #E8F0FE;\n",
              "      border: none;\n",
              "      border-radius: 50%;\n",
              "      cursor: pointer;\n",
              "      display: none;\n",
              "      fill: #1967D2;\n",
              "      height: 32px;\n",
              "      padding: 0 0 0 0;\n",
              "      width: 32px;\n",
              "    }\n",
              "\n",
              "    .colab-df-convert:hover {\n",
              "      background-color: #E2EBFA;\n",
              "      box-shadow: 0px 1px 2px rgba(60, 64, 67, 0.3), 0px 1px 3px 1px rgba(60, 64, 67, 0.15);\n",
              "      fill: #174EA6;\n",
              "    }\n",
              "\n",
              "    [theme=dark] .colab-df-convert {\n",
              "      background-color: #3B4455;\n",
              "      fill: #D2E3FC;\n",
              "    }\n",
              "\n",
              "    [theme=dark] .colab-df-convert:hover {\n",
              "      background-color: #434B5C;\n",
              "      box-shadow: 0px 1px 3px 1px rgba(0, 0, 0, 0.15);\n",
              "      filter: drop-shadow(0px 1px 2px rgba(0, 0, 0, 0.3));\n",
              "      fill: #FFFFFF;\n",
              "    }\n",
              "  </style>\n",
              "\n",
              "      <script>\n",
              "        const buttonEl =\n",
              "          document.querySelector('#df-72d6d2b3-714a-4667-b594-9a177f9ee9ad button.colab-df-convert');\n",
              "        buttonEl.style.display =\n",
              "          google.colab.kernel.accessAllowed ? 'block' : 'none';\n",
              "\n",
              "        async function convertToInteractive(key) {\n",
              "          const element = document.querySelector('#df-72d6d2b3-714a-4667-b594-9a177f9ee9ad');\n",
              "          const dataTable =\n",
              "            await google.colab.kernel.invokeFunction('convertToInteractive',\n",
              "                                                     [key], {});\n",
              "          if (!dataTable) return;\n",
              "\n",
              "          const docLinkHtml = 'Like what you see? Visit the ' +\n",
              "            '<a target=\"_blank\" href=https://colab.research.google.com/notebooks/data_table.ipynb>data table notebook</a>'\n",
              "            + ' to learn more about interactive tables.';\n",
              "          element.innerHTML = '';\n",
              "          dataTable['output_type'] = 'display_data';\n",
              "          await google.colab.output.renderOutput(dataTable, element);\n",
              "          const docLink = document.createElement('div');\n",
              "          docLink.innerHTML = docLinkHtml;\n",
              "          element.appendChild(docLink);\n",
              "        }\n",
              "      </script>\n",
              "    </div>\n",
              "  </div>\n",
              "  "
            ]
          },
          "metadata": {},
          "execution_count": 45
        }
      ]
    },
    {
      "cell_type": "code",
      "source": [
        "df_qty1[['prod']].plot(figsize=(10,5), fontsize=10, rot=20);\n"
      ],
      "metadata": {
        "colab": {
          "base_uri": "https://localhost:8080/",
          "height": 392
        },
        "id": "ZGhHk-FEghr3",
        "outputId": "c4d45767-9094-430e-c1e1-7dfc8f3e8be2"
      },
      "execution_count": null,
      "outputs": [
        {
          "output_type": "display_data",
          "data": {
            "text/plain": [
              "<Figure size 720x360 with 1 Axes>"
            ],
            "image/png": "[encoded data removed]"
          },
          "metadata": {
            "needs_background": "light"
          }
        }
      ]
    }
  ]
}